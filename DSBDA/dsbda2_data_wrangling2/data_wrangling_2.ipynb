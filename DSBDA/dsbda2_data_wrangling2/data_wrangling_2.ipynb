{
 "cells": [
  {
   "cell_type": "markdown",
   "metadata": {},
   "source": [
    "Create an “Academic performance” dataset of students and perform the following operations \n",
    "using Python.\n",
    "1. Scan all variables for missing values and inconsistencies. If there are missing values and/or \n",
    "inconsistencies, use any of the suitable techniques to deal with them.\n",
    "2. Scan all numeric variables for outliers. If there are outliers, use any of the suitable techniques \n",
    "to deal with them.\n",
    "3. Apply data transformations on at least one of the variables. The purpose of this transformation \n",
    "should be one of the following reasons: to change the scale for better understanding of the \n",
    "variable, to convert a non-linear relation into a linear one, or to decrease the skewness and \n",
    "convert the distribution into a normal distribution.\n",
    "Reason and document your approach properly."
   ]
  },
  {
   "cell_type": "code",
   "execution_count": 16,
   "metadata": {},
   "outputs": [
    {
     "name": "stdout",
     "output_type": "stream",
     "text": [
      "   Roll Number First Name Last Name  Mobile Number  CGPA1  CGPA2  age\n",
      "0          261      Rishi     Gupta   919954629666   9.92   5.06   19\n",
      "1          827      Seema     Singh   919085484267   0.22   2.83   20\n",
      "2          566      Pooja       Rao   919692747629   4.00   5.78   20\n",
      "3          431     Vikram   Trivedi   919289900918   3.93    NaN   20\n",
      "4          688      Rishi      Nair   918510327681   0.34   3.35   22\n"
     ]
    }
   ],
   "source": [
    "import pandas as pd\n",
    "import seaborn as sns\n",
    "import matplotlib.pyplot as plt\n",
    "\n",
    "# Read the data from the CSV file\n",
    "data = pd.read_csv('data.csv')\n",
    "\n",
    "print(data.head())"
   ]
  },
  {
   "cell_type": "code",
   "execution_count": 17,
   "metadata": {},
   "outputs": [
    {
     "name": "stdout",
     "output_type": "stream",
     "text": [
      "Roll Number      0\n",
      "First Name       0\n",
      "Last Name        0\n",
      "Mobile Number    0\n",
      "CGPA1            5\n",
      "CGPA2            3\n",
      "age              0\n",
      "dtype: int64\n"
     ]
    }
   ],
   "source": [
    "# 1. Scan all variables for missing values and inconsistencies. If there are missing values and/or \n",
    "# inconsistencies, use any of the suitable techniques to deal with them.\n",
    "\n",
    "# Check for missing values\n",
    "print(data.isnull().sum())"
   ]
  },
  {
   "cell_type": "code",
   "execution_count": 18,
   "metadata": {},
   "outputs": [
    {
     "name": "stdout",
     "output_type": "stream",
     "text": [
      "       Roll Number  Mobile Number      CGPA1      CGPA2         age\n",
      "count    50.000000   5.000000e+01  45.000000  47.000000   50.000000\n",
      "mean    492.440000   9.185083e+11   5.092444   4.586170   22.780000\n",
      "std     250.705792   9.131771e+08   3.068496   2.688698   22.994489\n",
      "min      15.000000   9.170212e+11   0.000000   0.250000    2.000000\n",
      "25%     288.000000   9.176502e+11   2.920000   2.730000   18.000000\n",
      "50%     527.500000   9.186161e+11   4.750000   4.080000   19.500000\n",
      "75%     659.000000   9.192426e+11   8.110000   6.580000   22.750000\n",
      "max     994.000000   9.199546e+11   9.920000   9.720000  180.000000\n"
     ]
    }
   ],
   "source": [
    "# Check for inconsistencies\n",
    "print(data.describe())"
   ]
  },
  {
   "cell_type": "code",
   "execution_count": 19,
   "metadata": {},
   "outputs": [],
   "source": [
    "# fill missing values with the mean of the column on CGPA1 and CGPA2\n",
    "data['CGPA1'] = data['CGPA1'].fillna(data['CGPA1'].mean())\n",
    "data['CGPA2'] = data['CGPA2'].fillna(data['CGPA2'].mean())\n"
   ]
  },
  {
   "cell_type": "code",
   "execution_count": 20,
   "metadata": {},
   "outputs": [
    {
     "data": {
      "image/png": "[encoded data removed]",
      "text/plain": [
       "<Figure size 640x480 with 1 Axes>"
      ]
     },
     "metadata": {},
     "output_type": "display_data"
    }
   ],
   "source": [
    "# 2. Scan all numeric variables for outliers. If there are outliers, use any of the suitable techniques \n",
    "# to deal with them.\n",
    "\n",
    "# Check for outliers\n",
    "sns.boxplot(data['age'])\n",
    "plt.show()"
   ]
  },
  {
   "cell_type": "code",
   "execution_count": 21,
   "metadata": {},
   "outputs": [
    {
     "name": "stdout",
     "output_type": "stream",
     "text": [
      "Q1:  18.0\n",
      "Q3:  22.75\n",
      "IQR:  4.75\n"
     ]
    }
   ],
   "source": [
    "# look for outliers in the age column\n",
    "Q1 = data['age'].quantile(0.25)\n",
    "Q3 = data['age'].quantile(0.75)\n",
    "\n",
    "IQR = Q3 - Q1\n",
    "\n",
    "print(\"Q1: \", Q1)\n",
    "print(\"Q3: \", Q3)\n",
    "print(\"IQR: \", IQR)"
   ]
  },
  {
   "cell_type": "code",
   "execution_count": 22,
   "metadata": {},
   "outputs": [
    {
     "name": "stdout",
     "output_type": "stream",
     "text": [
      "    Roll Number First Name Last Name  Mobile Number  CGPA1  CGPA2  age\n",
      "6           532  Vaishnavi       Jha   919009969408   5.63   4.38    2\n",
      "27          722  Vaishnavi     Patel   917550452611   9.49   3.29  180\n"
     ]
    }
   ],
   "source": [
    "# print the number of outliers\n",
    "outliers = data[(data['age'] < (Q1 - 1.5 * IQR)) | (data['age'] > (Q3 + 1.5 * IQR))]\n",
    "print(outliers)\n"
   ]
  },
  {
   "cell_type": "code",
   "execution_count": 23,
   "metadata": {},
   "outputs": [
    {
     "name": "stdout",
     "output_type": "stream",
     "text": [
      "0     19\n",
      "1     20\n",
      "2     20\n",
      "3     20\n",
      "4     22\n",
      "5     19\n",
      "6     16\n",
      "7     23\n",
      "8     18\n",
      "9     24\n",
      "10    17\n",
      "11    16\n",
      "12    19\n",
      "13    22\n",
      "14    23\n",
      "15    21\n",
      "16    16\n",
      "17    25\n",
      "18    16\n",
      "19    24\n",
      "20    19\n",
      "21    18\n",
      "22    18\n",
      "23    23\n",
      "24    22\n",
      "25    23\n",
      "26    20\n",
      "27    16\n",
      "28    24\n",
      "29    16\n",
      "30    23\n",
      "31    24\n",
      "32    23\n",
      "33    18\n",
      "34    16\n",
      "35    18\n",
      "36    16\n",
      "37    22\n",
      "38    22\n",
      "39    19\n",
      "40    23\n",
      "41    19\n",
      "42    22\n",
      "43    16\n",
      "44    17\n",
      "45    22\n",
      "46    19\n",
      "47    16\n",
      "48    16\n",
      "49    19\n",
      "Name: age, dtype: int64\n"
     ]
    }
   ],
   "source": [
    "# replace outliers with the mode\n",
    "\n",
    "data['age'] = data['age'].mask(data['age'] > Q3 + 1.5 * IQR, data['age'].mode()[0])\n",
    "data['age'] = data['age'].mask(data['age'] < Q1 - 1.5 * IQR, data['age'].mode()[0])\n",
    "\n",
    "print(data['age'])"
   ]
  },
  {
   "cell_type": "code",
   "execution_count": 24,
   "metadata": {},
   "outputs": [
    {
     "name": "stdout",
     "output_type": "stream",
     "text": [
      "0     2.944439\n",
      "1     2.995732\n",
      "2     2.995732\n",
      "3     2.995732\n",
      "4     3.091042\n",
      "5     2.944439\n",
      "6     2.772589\n",
      "7     3.135494\n",
      "8     2.890372\n",
      "9     3.178054\n",
      "10    2.833213\n",
      "11    2.772589\n",
      "12    2.944439\n",
      "13    3.091042\n",
      "14    3.135494\n",
      "15    3.044522\n",
      "16    2.772589\n",
      "17    3.218876\n",
      "18    2.772589\n",
      "19    3.178054\n",
      "20    2.944439\n",
      "21    2.890372\n",
      "22    2.890372\n",
      "23    3.135494\n",
      "24    3.091042\n",
      "25    3.135494\n",
      "26    2.995732\n",
      "27    2.772589\n",
      "28    3.178054\n",
      "29    2.772589\n",
      "30    3.135494\n",
      "31    3.178054\n",
      "32    3.135494\n",
      "33    2.890372\n",
      "34    2.772589\n",
      "35    2.890372\n",
      "36    2.772589\n",
      "37    3.091042\n",
      "38    3.091042\n",
      "39    2.944439\n",
      "40    3.135494\n",
      "41    2.944439\n",
      "42    3.091042\n",
      "43    2.772589\n",
      "44    2.833213\n",
      "45    3.091042\n",
      "46    2.944439\n",
      "47    2.772589\n",
      "48    2.772589\n",
      "49    2.944439\n",
      "Name: age, dtype: float64\n"
     ]
    }
   ],
   "source": [
    "# 3. Apply data transformations on at least one of the variables. The purpose of this transformation \n",
    "# should be one of the following reasons: to change the scale for better understanding of the \n",
    "# variable, to convert a non-linear relation into a linear one, or to decrease the skewness and \n",
    "# convert the distribution into a normal distribution.\n",
    "# Reason and document your approach properly.\n",
    "\n",
    "# The age column has a centered data. We can apply a log transformation to the age column to \n",
    "# convert the distribution into a normal distribution.\n",
    "\n",
    "# log transformation\n",
    "data['age'] = data['age'].apply(lambda x: np.log(x) if x > 0 else 0)\n",
    "\n",
    "# display the transformed data\n",
    "print(data['age'])\n"
   ]
  },
  {
   "cell_type": "code",
   "execution_count": 25,
   "metadata": {},
   "outputs": [
    {
     "data": {
      "image/png": "[encoded data removed]",
      "text/plain": [
       "<Figure size 640x480 with 1 Axes>"
      ]
     },
     "metadata": {},
     "output_type": "display_data"
    }
   ],
   "source": [
    "# show age distribution after transformation in boxplot\n",
    "sns.boxplot(data['age'])\n",
    "plt.show()\n"
   ]
  }
 ],
 "metadata": {
  "kernelspec": {
   "display_name": "Python 3",
   "language": "python",
   "name": "python3"
  },
  "language_info": {
   "codemirror_mode": {
    "name": "ipython",
    "version": 3
   },
   "file_extension": ".py",
   "mimetype": "text/x-python",
   "name": "python",
   "nbconvert_exporter": "python",
   "pygments_lexer": "ipython3",
   "version": "3.10.11"
  }
 },
 "nbformat": 4,
 "nbformat_minor": 2
}
